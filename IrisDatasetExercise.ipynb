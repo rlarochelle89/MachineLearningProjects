{
 "cells": [
  {
   "cell_type": "code",
   "execution_count": 1,
   "id": "4ca4c4b7",
   "metadata": {},
   "outputs": [
    {
     "name": "stdout",
     "output_type": "stream",
     "text": [
      "(150, 4)\n",
      "(150,)\n"
     ]
    }
   ],
   "source": [
    "from sklearn.datasets import load_iris\n",
    "iris = load_iris()\n",
    "X = iris.data\n",
    "y = iris.target\n",
    "print(X.shape)\n",
    "print(y.shape)"
   ]
  },
  {
   "cell_type": "code",
   "execution_count": 2,
   "id": "7bea5e83",
   "metadata": {},
   "outputs": [
    {
     "name": "stdout",
     "output_type": "stream",
     "text": [
      "(75, 4)\n",
      "(75, 4)\n"
     ]
    }
   ],
   "source": [
    "from sklearn.model_selection import train_test_split\n",
    "X_train, X_test, y_train, y_test = train_test_split(X, y, test_size = 0.5, random_state = 42)\n",
    "print(X_train.shape)\n",
    "print(X_test.shape)"
   ]
  },
  {
   "cell_type": "code",
   "execution_count": 3,
   "id": "832b340d",
   "metadata": {},
   "outputs": [
    {
     "name": "stdout",
     "output_type": "stream",
     "text": [
      "[0.9733333333333334, 0.96, 0.9733333333333334, 0.9333333333333333, 0.9466666666666667, 0.9466666666666667, 0.9466666666666667, 0.9466666666666667, 0.96, 0.9466666666666667, 0.9466666666666667, 0.9466666666666667, 0.96, 0.9466666666666667, 0.9733333333333334, 0.96, 0.96, 0.9466666666666667, 0.96, 0.9466666666666667, 0.9466666666666667, 0.9466666666666667, 0.96, 0.9466666666666667, 0.9733333333333334]\n"
     ]
    }
   ],
   "source": [
    "from sklearn.neighbors import KNeighborsClassifier\n",
    "from sklearn import metrics\n",
    "\n",
    "performances = []\n",
    "n = 1\n",
    "\n",
    "while len(performances) < 25: \n",
    "    knn = KNeighborsClassifier(n_neighbors = n)\n",
    "    knn.fit(X_train, y_train)\n",
    "    predictions = knn.predict(X_test)\n",
    "    performance = metrics.accuracy_score(y_test, predictions)\n",
    "    performances.append(performance)\n",
    "    n=n+1\n",
    "print(performances)"
   ]
  },
  {
   "cell_type": "code",
   "execution_count": 4,
   "id": "2efc7616",
   "metadata": {},
   "outputs": [
    {
     "name": "stdout",
     "output_type": "stream",
     "text": [
      "The best performance is 0.9733333333333334 which happens when k = 1.\n"
     ]
    }
   ],
   "source": [
    "best_performance = max(performances)\n",
    "best_k = performances.index(best_performance)+1\n",
    "print('The best performance is',str(best_performance),'which happens when k =',str(best_k)+'.')"
   ]
  },
  {
   "cell_type": "code",
   "execution_count": null,
   "id": "b824e4f3",
   "metadata": {},
   "outputs": [],
   "source": []
  }
 ],
 "metadata": {
  "kernelspec": {
   "display_name": "Python 3 (ipykernel)",
   "language": "python",
   "name": "python3"
  },
  "language_info": {
   "codemirror_mode": {
    "name": "ipython",
    "version": 3
   },
   "file_extension": ".py",
   "mimetype": "text/x-python",
   "name": "python",
   "nbconvert_exporter": "python",
   "pygments_lexer": "ipython3",
   "version": "3.10.0"
  }
 },
 "nbformat": 4,
 "nbformat_minor": 5
}
